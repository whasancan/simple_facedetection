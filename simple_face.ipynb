{
 "cells": [
  {
   "cell_type": "code",
   "execution_count": 3,
   "id": "e89851bd",
   "metadata": {},
   "outputs": [],
   "source": [
    "# kütüphaneleri yüklüyoruz\n",
    "import numpy as np\n",
    "import cv2\n",
    "\n",
    "# varsayılan kameraya erişiyoruz\n",
    "cap = cv2.VideoCapture(0)\n",
    "\n",
    "# önceden eğitilmiş yüz ve göz verilerini yüklüyoruz\n",
    "face_cascade = cv2.CascadeClassifier(cv2.data.haarcascades + 'haarcascade_frontalface_default.xml')\n",
    "eye_cascade = cv2.CascadeClassifier(cv2.data.haarcascades + 'haarcascade_eye.xml')\n",
    "\n",
    "\n",
    "while True:\n",
    "    ret, frame = cap.read()\n",
    "\n",
    "    # yakalanan kareyi gri moda dönüştürüyor\n",
    "    gray = cv2.cvtColor(frame, cv2.COLOR_BGR2GRAY)\n",
    "    \n",
    "    # sınıflandırıcıyı kullanrak yüzleri algılıyoruz\n",
    "    faces = face_cascade.detectMultiScale(gray, 1.3, 5)\n",
    "    \n",
    "    # algılanan her yüzün kordinatını, genişliğini ve yüksekliğini alıyoruz\n",
    "    for (x, y, w, h) in faces:\n",
    "        \n",
    "        # algılanan yüzün etrafına RGB renkli kutu çiziyor\n",
    "        cv2.rectangle(frame, (x, y), (x + w, y + h), (255, 150, 0), 5)\n",
    "        \n",
    "        # göz algılama için yüzü gri tonlamadan ayıklar\n",
    "        roi_gray = gray[y:y+w, x:x+w]\n",
    "        \n",
    "        #göz kutusunu çizmek için aynı renkli kardan ayıklar\n",
    "        roi_color = frame[y:y+h, x:x+w]\n",
    "        \n",
    "        # gözleri algılar.\n",
    "        eyes = eye_cascade.detectMultiScale(roi_gray, 1.3, 5)\n",
    "        \n",
    "        # algılanan her gözün kordinatını saklar\n",
    "        for (ex, ey, ew, eh) in eyes:\n",
    "            \n",
    "            # algılanan gözün etrafına kutu çizer\n",
    "            cv2.rectangle(roi_color, (ex, ey), (ex + ew, ey + eh), (63, 255, 0), 5)\n",
    "    \n",
    "    # pencere ayarları\n",
    "    cv2.imshow('yüz ve göz algılama', frame)\n",
    "    \n",
    "    # düngüden çıkış\n",
    "    if cv2.waitKey(1) == ord('ç'):\n",
    "        break\n",
    "\n",
    "cap.release()\n",
    "cv2.destroyAllWindows()"
   ]
  },
  {
   "cell_type": "code",
   "execution_count": null,
   "id": "e34555a6",
   "metadata": {},
   "outputs": [],
   "source": []
  },
  {
   "cell_type": "code",
   "execution_count": null,
   "id": "c87f933a",
   "metadata": {},
   "outputs": [],
   "source": []
  }
 ],
 "metadata": {
  "kernelspec": {
   "display_name": "Python 3 (ipykernel)",
   "language": "python",
   "name": "python3"
  },
  "language_info": {
   "codemirror_mode": {
    "name": "ipython",
    "version": 3
   },
   "file_extension": ".py",
   "mimetype": "text/x-python",
   "name": "python",
   "nbconvert_exporter": "python",
   "pygments_lexer": "ipython3",
   "version": "3.11.5"
  }
 },
 "nbformat": 4,
 "nbformat_minor": 5
}
